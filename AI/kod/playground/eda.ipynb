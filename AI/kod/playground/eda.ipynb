{
 "cells": [
  {
   "cell_type": "code",
   "execution_count": 1,
   "metadata": {},
   "outputs": [
    {
     "name": "stdout",
     "output_type": "stream",
     "text": []
    }
   ],
   "source": [
    "%pip install pandas"
   ]
  },
  {
   "cell_type": "code",
   "execution_count": 2,
   "metadata": {},
   "outputs": [
    {
     "name": "stdout",
     "output_type": "stream",
     "text": []
    },
    {
     "data": {},
     "execution_count": 2,
     "metadata": {},
     "output_type": "execute_result"
    }
   ],
   "source": [
    "import pandas as pd\n",
    "\n",
    "df = pd.read_csv('connection_graph.csv')\n",
    "\n",
    "df.head()"
   ]
  },
  {
   "cell_type": "code",
   "execution_count": 10,
   "metadata": {},
   "outputs": [
    {
     "name": "stdout",
     "output_type": "stream",
     "text": [
      "Starting at station Śliczna at 08:50:00 (31800 seconds)\n",
      "Found final node\n",
      "\n",
      "Travel Schedule:\n",
      "Linia 612, wsiadam: 08:50:00 Śliczna, wysiadam: 08:54:00 DWORZEC AUTOBUSOWY\n",
      "Linia K, wsiadam: 08:54:00 DWORZEC AUTOBUSOWY, wysiadam: 08:57:00 DWORZEC GŁÓWNY\n",
      "Linia 4, wsiadam: 08:57:00 DWORZEC GŁÓWNY, wysiadam: 09:08:00 most Grunwaldzki\n",
      "\n",
      "Earliest arrival time: 09:08:00\n"
     ]
    },
    {
     "name": "stderr",
     "output_type": "stream",
     "text": [
      "Cost: 32880 seconds; Computation time: 12.5378 seconds\n"
     ]
    },
    {
     "data": {
      "text/plain": [
       "55"
      ]
     },
     "execution_count": 10,
     "metadata": {},
     "output_type": "execute_result"
    }
   ],
   "source": [
    "import pandas as pd\n",
    "from math import inf\n",
    "import heapq\n",
    "import time\n",
    "import sys\n",
    "\n",
    "all_stations = pd.concat([df[\"start_stop\"], df[\"end_stop\"]])\n",
    "unique_stations = all_stations.unique()\n",
    "unique_stations.sort()\n",
    "\n",
    "def get_time_in_seconds(time_str: str):\n",
    "    hours, minutes, seconds = time_str.split(\":\")\n",
    "    return int(hours) * 3600 + int(minutes) * 60 + int(seconds)\n",
    "\n",
    "def get_time_difference(departure: int, arrive: int):\n",
    "    if departure > arrive:\n",
    "        arrive += 3600 * 24\n",
    "    return arrive - departure\n",
    "\n",
    "def format_time(seconds: int): \n",
    "    hours = int(seconds // 3600)\n",
    "    minutes = int((seconds % 3600) // 60)\n",
    "    secs = int(seconds % 60)\n",
    "    return f\"{hours:02}:{minutes:02}:{secs:02}\"\n",
    "\n",
    "def when_to_ride(station_a, station_b, criteria, start_time):\n",
    "    nodes = {station: inf for station in unique_stations}\n",
    "    start_seconds = get_time_in_seconds(start_time)\n",
    "    nodes[station_a] = start_seconds\n",
    "    print(f\"Starting at station {station_a} at {start_time} ({nodes[station_a]} seconds)\")\n",
    "    \n",
    "    prev = {}  # Maps station -> (previous_station, (line, board_stop, board_time, alight_stop, alight_time))\n",
    "    visited = set()\n",
    "    pq = []\n",
    "    heapq.heappush(pq, (nodes[station_a], station_a))\n",
    "    \n",
    "    while pq:\n",
    "        current_time, current_node = heapq.heappop(pq)\n",
    "        if current_time > nodes[current_node]:\n",
    "            continue\n",
    "        \n",
    "        # print(f\"Checking node {current_node} at time {format_time(current_time)}\")\n",
    "        if current_node == station_b:\n",
    "            path = []\n",
    "            node = station_b\n",
    "            while node in prev:\n",
    "                ride = prev[node][1]\n",
    "                path.append(ride)\n",
    "                node = prev[node][0]\n",
    "            path.reverse()\n",
    "            print(\"Found final node\")\n",
    "            return current_time, path\n",
    "        \n",
    "        visited.add(current_node)\n",
    "        neighbors = df[df['start_stop'] == current_node]\n",
    "        # print(f\"Found {len(neighbors)} neighbors for {current_node}\")\n",
    "        \n",
    "        for idx, row in neighbors.iterrows():\n",
    "            neighbor = row[\"end_stop\"]\n",
    "            if neighbor in visited:\n",
    "                continue\n",
    "            \n",
    "            sched_departure = get_time_in_seconds(row[\"departure_time\"])\n",
    "            current_day_time = current_time % 86400\n",
    "            day_start = current_time - current_day_time\n",
    "            if sched_departure < current_day_time:\n",
    "                abs_departure = day_start + sched_departure + 86400\n",
    "            else:\n",
    "                abs_departure = day_start + sched_departure\n",
    "            \n",
    "            ride_duration = get_time_difference(\n",
    "                get_time_in_seconds(row[\"departure_time\"]),\n",
    "                get_time_in_seconds(row[\"arrival_time\"])\n",
    "            )\n",
    "            new_time = abs_departure + ride_duration\n",
    "            # print(f\"From {current_node} to {neighbor}: line {row['line']}, scheduled depart {row['departure_time']}, arrive {row['arrival_time']}; abs depart {format_time(abs_departure)}, ride duration {ride_duration} -> new time {format_time(new_time)}\")\n",
    "            \n",
    "            if new_time < nodes[neighbor]:\n",
    "                nodes[neighbor] = new_time\n",
    "                prev[neighbor] = (current_node, (row[\"line\"], current_node, abs_departure, neighbor, new_time))\n",
    "                heapq.heappush(pq, (new_time, neighbor))\n",
    "    \n",
    "    print(\"No route found\")\n",
    "    return inf, []\n",
    "\n",
    "start_comp = time.time()\n",
    "result_time, path = when_to_ride('Śliczna', 'most Grunwaldzki', 't', \"08:50:00\")\n",
    "end_comp = time.time()\n",
    "\n",
    "if result_time == inf:\n",
    "    print(\"No route found\")\n",
    "else:\n",
    "    print(\"\\nTravel Schedule:\")\n",
    "    current_line = None\n",
    "    segment_start_station = None\n",
    "    segment_start_time = None\n",
    "    previous_ride_end_station = None\n",
    "    previous_ride_end_time = None\n",
    "\n",
    "    for ride in path:\n",
    "        line = ride[0]\n",
    "        if line != current_line:\n",
    "            # print previous line segment if any\n",
    "            if current_line is not None:\n",
    "                print(f\"Linia {current_line}, wsiadam: {segment_start_time} {segment_start_station}, wysiadam: {previous_ride_end_time} {previous_ride_end_station}\")\n",
    "            current_line = line\n",
    "            segment_start_station = ride[1]\n",
    "            segment_start_time = format_time(ride[2])\n",
    "        previous_ride_end_station = ride[3]\n",
    "        previous_ride_end_time = format_time(ride[4])\n",
    "\n",
    "    # print the final segment\n",
    "    if current_line is not None:\n",
    "        print(f\"Linia {current_line}, wsiadam: {segment_start_time} {segment_start_station}, wysiadam: {previous_ride_end_time} {previous_ride_end_station}\")\n",
    "\n",
    "    print(\"\\nEarliest arrival time:\", format_time(result_time))\n",
    "\n",
    "comp_time = end_comp - start_comp\n",
    "sys.stderr.write(f\"Cost: {result_time} seconds; Computation time: {comp_time:.4f} seconds\\n\")"
   ]
  }
 ],
 "metadata": {
  "kernelspec": {
   "display_name": "3.11.9",
   "language": "python",
   "name": "python3"
  },
  "language_info": {
   "codemirror_mode": {
    "name": "ipython",
    "version": 3
   },
   "file_extension": ".py",
   "mimetype": "text/x-python",
   "name": "python",
   "nbconvert_exporter": "python",
   "pygments_lexer": "ipython3",
   "version": "3.11.9"
  }
 },
 "nbformat": 4,
 "nbformat_minor": 2
}
