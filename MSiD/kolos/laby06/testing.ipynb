{
 "cells": [
  {
   "cell_type": "code",
   "execution_count": 3,
   "metadata": {},
   "outputs": [
    {
     "name": "stdout",
     "output_type": "stream",
     "text": [
      "Optymalna ilość produkcji wyrobów W1, W2 i W3:\n",
      "W1: 0.00 szt.\n",
      "W2: 1166.67 szt.\n",
      "W3: 591.67 szt.\n",
      "Maksymalny zysk: 38633.33 zł\n"
     ]
    }
   ],
   "source": [
    "from scipy.optimize import linprog\n",
    "\n",
    "# Współczynniki funkcji celu (maksymalizacja zysku)\n",
    "c = [-12, -25, -16]  # Negatywne wartości, ponieważ linprog minimalizuje funkcję celu\n",
    "\n",
    "# Macierz współczynników ograniczeń\n",
    "A = [\n",
    "    [5, 3, 0],  # Zużycie S1\n",
    "    [1, 2, 4]   # Zużycie S2\n",
    "]\n",
    "\n",
    "# Wektory ograniczeń\n",
    "b = [3500, 4700]  # Limity zużycia S1 i S2\n",
    "\n",
    "# Ograniczenia zmiennych (x >= 0)\n",
    "x0_bounds = (0, None)\n",
    "x1_bounds = (0, None)\n",
    "x2_bounds = (0, None)\n",
    "\n",
    "# Rozwiązywanie problemu\n",
    "result = linprog(c, A_ub=A, b_ub=b, bounds=[x0_bounds, x1_bounds, x2_bounds], method='highs')\n",
    "\n",
    "# Wyświetlanie wyników\n",
    "print(\"Optymalna ilość produkcji wyrobów W1, W2 i W3:\")\n",
    "print(f\"W1: {result.x[0]:.2f} szt.\")\n",
    "print(f\"W2: {result.x[1]:.2f} szt.\")\n",
    "print(f\"W3: {result.x[2]:.2f} szt.\")\n",
    "print(f\"Maksymalny zysk: {-result.fun:.2f} zł\")"
   ]
  }
 ],
 "metadata": {
  "kernelspec": {
   "display_name": "Python 3",
   "language": "python",
   "name": "python3"
  },
  "language_info": {
   "codemirror_mode": {
    "name": "ipython",
    "version": 3
   },
   "file_extension": ".py",
   "mimetype": "text/x-python",
   "name": "python",
   "nbconvert_exporter": "python",
   "pygments_lexer": "ipython3",
   "version": "3.11.9"
  }
 },
 "nbformat": 4,
 "nbformat_minor": 2
}
