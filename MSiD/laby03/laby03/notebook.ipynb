{
  "cells": [
    {
      "cell_type": "markdown",
      "metadata": {
        "id": "cl7f8AwaBSI5"
      },
      "source": [
        "### **Dopasowanie modelu do danych** metodą najmniejszych kwadratów (ang. *least-squares method*)"
      ]
    },
    {
      "cell_type": "code",
      "execution_count": 2,
      "metadata": {
        "id": "hO2mBBprCOUj"
      },
      "outputs": [],
      "source": [
        "import numpy as np\n",
        "import matplotlib.pyplot as plt\n",
        "import pandas as pd"
      ]
    },
    {
      "cell_type": "markdown",
      "metadata": {
        "id": "HZqTAaScBwKI"
      },
      "source": [
        "**Zbiór danych** (ang. *dataset*) został opracowany na podstawie: <br>\n",
        "[Eurostat](https://ec.europa.eu/eurostat/data/database), [World Happiness Report](https://worldhappiness.report/) <br>\n",
        "Dla każdego państwa w Europie zestawiamy dwa rodzaje pomiarów/cech (ang. *features*): PKB na osobę i poczucie szczęścia obywatela."
      ]
    },
    {
      "cell_type": "code",
      "execution_count": 3,
      "metadata": {
        "colab": {
          "base_uri": "https://localhost:8080/",
          "height": 1000
        },
        "id": "W9b1XgKFBa-r",
        "outputId": "bc58f0b2-41a2-40d4-cb38-27fd513c12f2"
      },
      "outputs": [
        {
          "name": "stdout",
          "output_type": "stream",
          "text": [
            "Plik GDP_happiness.csv już jest na dysku\n"
          ]
        },
        {
          "data": {
            "text/html": [
              "<div>\n",
              "<style scoped>\n",
              "    .dataframe tbody tr th:only-of-type {\n",
              "        vertical-align: middle;\n",
              "    }\n",
              "\n",
              "    .dataframe tbody tr th {\n",
              "        vertical-align: top;\n",
              "    }\n",
              "\n",
              "    .dataframe thead th {\n",
              "        text-align: right;\n",
              "    }\n",
              "</style>\n",
              "<table border=\"1\" class=\"dataframe\">\n",
              "  <thead>\n",
              "    <tr style=\"text-align: right;\">\n",
              "      <th></th>\n",
              "      <th>GDP per capita</th>\n",
              "      <th>happiness</th>\n",
              "    </tr>\n",
              "    <tr>\n",
              "      <th>Kraj</th>\n",
              "      <th></th>\n",
              "      <th></th>\n",
              "    </tr>\n",
              "  </thead>\n",
              "  <tbody>\n",
              "    <tr>\n",
              "      <th>Belgium</th>\n",
              "      <td>133.0</td>\n",
              "      <td>6.864</td>\n",
              "    </tr>\n",
              "    <tr>\n",
              "      <th>Bulgaria</th>\n",
              "      <td>28.2</td>\n",
              "      <td>5.102</td>\n",
              "    </tr>\n",
              "    <tr>\n",
              "      <th>Czech Republic</th>\n",
              "      <td>67.4</td>\n",
              "      <td>6.911</td>\n",
              "    </tr>\n",
              "    <tr>\n",
              "      <th>Denmark</th>\n",
              "      <td>172.5</td>\n",
              "      <td>7.646</td>\n",
              "    </tr>\n",
              "    <tr>\n",
              "      <th>Germany</th>\n",
              "      <td>133.2</td>\n",
              "      <td>7.076</td>\n",
              "    </tr>\n",
              "    <tr>\n",
              "      <th>Estonia</th>\n",
              "      <td>68.1</td>\n",
              "      <td>6.022</td>\n",
              "    </tr>\n",
              "    <tr>\n",
              "      <th>Ireland</th>\n",
              "      <td>231.9</td>\n",
              "      <td>7.094</td>\n",
              "    </tr>\n",
              "    <tr>\n",
              "      <th>Greece</th>\n",
              "      <td>54.9</td>\n",
              "      <td>5.515</td>\n",
              "    </tr>\n",
              "    <tr>\n",
              "      <th>Spain</th>\n",
              "      <td>84.8</td>\n",
              "      <td>6.401</td>\n",
              "    </tr>\n",
              "    <tr>\n",
              "      <th>France</th>\n",
              "      <td>115.4</td>\n",
              "      <td>6.664</td>\n",
              "    </tr>\n",
              "    <tr>\n",
              "      <th>Croatia</th>\n",
              "      <td>42.8</td>\n",
              "      <td>5.505</td>\n",
              "    </tr>\n",
              "    <tr>\n",
              "      <th>Italy</th>\n",
              "      <td>95.2</td>\n",
              "      <td>6.387</td>\n",
              "    </tr>\n",
              "    <tr>\n",
              "      <th>Cyprus</th>\n",
              "      <td>81.2</td>\n",
              "      <td>6.159</td>\n",
              "    </tr>\n",
              "    <tr>\n",
              "      <th>Lithuania</th>\n",
              "      <td>56.0</td>\n",
              "      <td>6.215</td>\n",
              "    </tr>\n",
              "    <tr>\n",
              "      <th>Luxembourg</th>\n",
              "      <td>327.9</td>\n",
              "      <td>7.238</td>\n",
              "    </tr>\n",
              "    <tr>\n",
              "      <th>Hungary</th>\n",
              "      <td>48.0</td>\n",
              "      <td>6.000</td>\n",
              "    </tr>\n",
              "    <tr>\n",
              "      <th>Malta</th>\n",
              "      <td>85.6</td>\n",
              "      <td>6.773</td>\n",
              "    </tr>\n",
              "    <tr>\n",
              "      <th>Netherlands</th>\n",
              "      <td>149.9</td>\n",
              "      <td>7.449</td>\n",
              "    </tr>\n",
              "    <tr>\n",
              "      <th>Austria</th>\n",
              "      <td>143.7</td>\n",
              "      <td>7.294</td>\n",
              "    </tr>\n",
              "    <tr>\n",
              "      <th>Poland</th>\n",
              "      <td>44.5</td>\n",
              "      <td>6.186</td>\n",
              "    </tr>\n",
              "    <tr>\n",
              "      <th>Portugal</th>\n",
              "      <td>66.5</td>\n",
              "      <td>5.911</td>\n",
              "    </tr>\n",
              "    <tr>\n",
              "      <th>Romania</th>\n",
              "      <td>37.0</td>\n",
              "      <td>6.124</td>\n",
              "    </tr>\n",
              "    <tr>\n",
              "      <th>Slovenia</th>\n",
              "      <td>74.3</td>\n",
              "      <td>6.363</td>\n",
              "    </tr>\n",
              "    <tr>\n",
              "      <th>Slovakia</th>\n",
              "      <td>55.2</td>\n",
              "      <td>6.281</td>\n",
              "    </tr>\n",
              "    <tr>\n",
              "      <th>Finland</th>\n",
              "      <td>139.8</td>\n",
              "      <td>7.809</td>\n",
              "    </tr>\n",
              "    <tr>\n",
              "      <th>Sweden</th>\n",
              "      <td>148.1</td>\n",
              "      <td>7.353</td>\n",
              "    </tr>\n",
              "    <tr>\n",
              "      <th>Great Britain</th>\n",
              "      <td>121.2</td>\n",
              "      <td>7.165</td>\n",
              "    </tr>\n",
              "    <tr>\n",
              "      <th>Iceland</th>\n",
              "      <td>195.7</td>\n",
              "      <td>7.504</td>\n",
              "    </tr>\n",
              "    <tr>\n",
              "      <th>Norway</th>\n",
              "      <td>217.3</td>\n",
              "      <td>7.488</td>\n",
              "    </tr>\n",
              "    <tr>\n",
              "      <th>Switzerland</th>\n",
              "      <td>244.5</td>\n",
              "      <td>7.560</td>\n",
              "    </tr>\n",
              "    <tr>\n",
              "      <th>Montenegro</th>\n",
              "      <td>25.5</td>\n",
              "      <td>5.546</td>\n",
              "    </tr>\n",
              "    <tr>\n",
              "      <th>Albania</th>\n",
              "      <td>15.3</td>\n",
              "      <td>4.883</td>\n",
              "    </tr>\n",
              "    <tr>\n",
              "      <th>Serbia</th>\n",
              "      <td>21.2</td>\n",
              "      <td>5.778</td>\n",
              "    </tr>\n",
              "    <tr>\n",
              "      <th>Turkey</th>\n",
              "      <td>26.4</td>\n",
              "      <td>5.132</td>\n",
              "    </tr>\n",
              "    <tr>\n",
              "      <th>Latvia</th>\n",
              "      <td>NaN</td>\n",
              "      <td>5.950</td>\n",
              "    </tr>\n",
              "  </tbody>\n",
              "</table>\n",
              "</div>"
            ],
            "text/plain": [
              "                GDP per capita  happiness\n",
              "Kraj                                     \n",
              "Belgium                  133.0      6.864\n",
              "Bulgaria                  28.2      5.102\n",
              "Czech Republic            67.4      6.911\n",
              "Denmark                  172.5      7.646\n",
              "Germany                  133.2      7.076\n",
              "Estonia                   68.1      6.022\n",
              "Ireland                  231.9      7.094\n",
              "Greece                    54.9      5.515\n",
              "Spain                     84.8      6.401\n",
              "France                   115.4      6.664\n",
              "Croatia                   42.8      5.505\n",
              "Italy                     95.2      6.387\n",
              "Cyprus                    81.2      6.159\n",
              "Lithuania                 56.0      6.215\n",
              "Luxembourg               327.9      7.238\n",
              "Hungary                   48.0      6.000\n",
              "Malta                     85.6      6.773\n",
              "Netherlands              149.9      7.449\n",
              "Austria                  143.7      7.294\n",
              "Poland                    44.5      6.186\n",
              "Portugal                  66.5      5.911\n",
              "Romania                   37.0      6.124\n",
              "Slovenia                  74.3      6.363\n",
              "Slovakia                  55.2      6.281\n",
              "Finland                  139.8      7.809\n",
              "Sweden                   148.1      7.353\n",
              "Great Britain            121.2      7.165\n",
              "Iceland                  195.7      7.504\n",
              "Norway                   217.3      7.488\n",
              "Switzerland              244.5      7.560\n",
              "Montenegro                25.5      5.546\n",
              "Albania                   15.3      4.883\n",
              "Serbia                    21.2      5.778\n",
              "Turkey                    26.4      5.132\n",
              "Latvia                     NaN      5.950"
            ]
          },
          "metadata": {},
          "output_type": "display_data"
        }
      ],
      "source": [
        "import urllib.request\n",
        "import os\n",
        "\n",
        "plik = 'GDP_happiness.csv'\n",
        "URL = \"https://byes.pl/wp-content/uploads/datasets/\" + plik\n",
        "if not os.path.isfile(plik):\n",
        "    print('Pobieram plik z ', URL)\n",
        "    urllib.request.urlretrieve(URL, plik)\n",
        "    print('Pobrano plik')\n",
        "else:\n",
        "    print(f'Plik {plik} już jest na dysku')\n",
        "\n",
        "dane = pd.read_csv(plik, index_col=[0])\n",
        "\n",
        "display(dane)"
      ]
    },
    {
      "attachments": {},
      "cell_type": "markdown",
      "metadata": {
        "id": "ydspvRsHClg1"
      },
      "source": [
        "**Oczyszczanie danych** <br>\n",
        "Dane dotyczące poczucia szczęścia pobierałem automatem z pliku i pdf i akurat Łotwa została niepoprawnie odczytana. Brakujące dane zostaną uzupełnione średnią z pozostałych dostępnych pomiarów. <br>"
      ]
    },
    {
      "cell_type": "code",
      "execution_count": 4,
      "metadata": {
        "colab": {
          "base_uri": "https://localhost:8080/",
          "height": 206
        },
        "id": "AwdYubF9CVYF",
        "outputId": "1e5754ff-1ca0-483a-84aa-2ca3fa3a8d05"
      },
      "outputs": [
        {
          "data": {
            "text/html": [
              "<div>\n",
              "<style scoped>\n",
              "    .dataframe tbody tr th:only-of-type {\n",
              "        vertical-align: middle;\n",
              "    }\n",
              "\n",
              "    .dataframe tbody tr th {\n",
              "        vertical-align: top;\n",
              "    }\n",
              "\n",
              "    .dataframe thead th {\n",
              "        text-align: right;\n",
              "    }\n",
              "</style>\n",
              "<table border=\"1\" class=\"dataframe\">\n",
              "  <thead>\n",
              "    <tr style=\"text-align: right;\">\n",
              "      <th></th>\n",
              "      <th>GDP per capita</th>\n",
              "      <th>happiness</th>\n",
              "    </tr>\n",
              "    <tr>\n",
              "      <th>Kraj</th>\n",
              "      <th></th>\n",
              "      <th></th>\n",
              "    </tr>\n",
              "  </thead>\n",
              "  <tbody>\n",
              "    <tr>\n",
              "      <th>Montenegro</th>\n",
              "      <td>25.500000</td>\n",
              "      <td>5.546</td>\n",
              "    </tr>\n",
              "    <tr>\n",
              "      <th>Albania</th>\n",
              "      <td>15.300000</td>\n",
              "      <td>4.883</td>\n",
              "    </tr>\n",
              "    <tr>\n",
              "      <th>Serbia</th>\n",
              "      <td>21.200000</td>\n",
              "      <td>5.778</td>\n",
              "    </tr>\n",
              "    <tr>\n",
              "      <th>Turkey</th>\n",
              "      <td>26.400000</td>\n",
              "      <td>5.132</td>\n",
              "    </tr>\n",
              "    <tr>\n",
              "      <th>Latvia</th>\n",
              "      <td>104.476471</td>\n",
              "      <td>5.950</td>\n",
              "    </tr>\n",
              "  </tbody>\n",
              "</table>\n",
              "</div>"
            ],
            "text/plain": [
              "            GDP per capita  happiness\n",
              "Kraj                                 \n",
              "Montenegro       25.500000      5.546\n",
              "Albania          15.300000      4.883\n",
              "Serbia           21.200000      5.778\n",
              "Turkey           26.400000      5.132\n",
              "Latvia          104.476471      5.950"
            ]
          },
          "execution_count": 4,
          "metadata": {},
          "output_type": "execute_result"
        }
      ],
      "source": [
        "dane = dane.fillna(dane.mean(axis=0))\n",
        "dane.tail()"
      ]
    },
    {
      "attachments": {},
      "cell_type": "markdown",
      "metadata": {
        "id": "ZUOPG7qwEA3A"
      },
      "source": [
        "**Ćwiczenie 1**: Zastanów się w jaki inny sposób można leczyć objawowo zbiory zawierające brakujące wartości?"
      ]
    },
    {
      "cell_type": "code",
      "execution_count": null,
      "metadata": {},
      "outputs": [],
      "source": [
        "dane.dropna()"
      ]
    },
    {
      "attachments": {},
      "cell_type": "markdown",
      "metadata": {
        "id": "ncw9lgp2Eb8U"
      },
      "source": [
        "Ramka danych jest strukturą pośredniczącą między różnymi rodzajami źródeł danych, a metodami przetwarzania/analizy danych. <br>\n",
        "Z ramki zostaną wybrane dwie serie, wartości których trafią do osobnych tabel: "
      ]
    },
    {
      "cell_type": "code",
      "execution_count": 7,
      "metadata": {
        "id": "edHLQ4PiEBQ9"
      },
      "outputs": [],
      "source": [
        "X = dane['GDP per capita'].values\n",
        "Y = dane['happiness'].values"
      ]
    },
    {
      "attachments": {},
      "cell_type": "markdown",
      "metadata": {
        "id": "sEPsq97HFvG0"
      },
      "source": [
        "**Wizualizacja danych** <br>\n",
        "Można to zrobić biblioteką ```matplotlib```, ale to już znasz. Warto poznać możliwości biblioteki ```seaborn```, która pozwala na szybkie generowanie wizualizacji o jakości nadającej się do publikacji (ang. *publication quality*)."
      ]
    },
    {
      "cell_type": "code",
      "execution_count": 5,
      "metadata": {
        "colab": {
          "base_uri": "https://localhost:8080/",
          "height": 388
        },
        "id": "IKh5kEfkEO7o",
        "outputId": "f74e32a0-2aff-4688-de4d-464ad94282c3"
      },
      "outputs": [
        {
          "data": {
            "image/png": "[encoded data removed]",
            "text/plain": [
              "<Figure size 600x600 with 1 Axes>"
            ]
          },
          "metadata": {},
          "output_type": "display_data"
        }
      ],
      "source": [
        "import seaborn as sns\n",
        "\n",
        "plt.figure(figsize=(6,6))\n",
        "sns.scatterplot(\n",
        "    x='GDP per capita',\n",
        "    y='happiness',\n",
        "    data=dane,\n",
        "    hue='happiness',\n",
        "    size='GDP per capita',\n",
        "    sizes=(20, 200),\n",
        "    legend='brief',\n",
        ")\n",
        "plt.show()"
      ]
    },
    {
      "attachments": {},
      "cell_type": "markdown",
      "metadata": {
        "id": "a92PgZgqG-MM"
      },
      "source": [
        "**Ćwiczenie 2**: Jak w świetle przedstawionych danych oceniasz mądrość ludową *pieniądze szczęścia nie dają*?"
      ]
    },
    {
      "cell_type": "code",
      "execution_count": null,
      "metadata": {},
      "outputs": [],
      "source": [
        "# Dają ale do pewnego poziomu"
      ]
    },
    {
      "cell_type": "markdown",
      "metadata": {},
      "source": [
        "**Ćwiczenie 3**: Zwizualizuj przy uzyciu biblioteki seaborn dane dotyczące szczęścia w poszczególnych krajach (barplot). Wyniki przedstaw w porządku malejącym."
      ]
    },
    {
      "cell_type": "code",
      "execution_count": null,
      "metadata": {},
      "outputs": [],
      "source": [
        "import seaborn as sns\n",
        "\n",
        "plt.figure(figsize=(4,8))\n",
        "sns.barplot(x='happiness', y='Kraj', data=dane.sort_values('happiness', ascending=False))\n",
        "plt.show()"
      ]
    },
    {
      "cell_type": "markdown",
      "metadata": {
        "id": "cQ8ZcUC-Hc4n"
      },
      "source": [
        "**Dopasowanie do danych $\\{(x_i,y_i)\\}_{i=1}^N$ modelu** liniowego: $$\\overline{y} = ax+b,$$\n",
        "gdzie: <br>\n",
        "$x$ - PKB na osobę (ang. *GDP per capita*), <br>\n",
        "$y$ - poczucie szczęścia (ang. *hapiness*), <br>\n",
        "$\\overline{y}$ - przewidywana/wyliczona przez model wartość $y$ dla podanego $x$,<br>\n",
        "$a, b$ - parametry modelu. <br><br>\n",
        "Dane pomiarowe zmiennej wyjściowej można zebrać do macierzy:<br>\n",
        "$Y = \\begin{bmatrix} y_1 & y_2 & \\cdots & y_N \\end{bmatrix}$, <br>\n",
        "a tak zwane ,,predykcje'' (przybliżenia) modelu do macierzy:<br> \n",
        "$\\overline{Y} = \\begin{bmatrix} \\overline{y}_1 & \\overline{y}_2 & \\cdots & \\overline{y}_N \\end{bmatrix}$. <br>\n"
      ]
    },
    {
      "attachments": {},
      "cell_type": "markdown",
      "metadata": {
        "id": "putMa84PMwiL"
      },
      "source": [
        "**Ćwiczenie 4**: Spróbuj **metodą prób i błędów** dobrać wartości parametrów modelu $a$ i $b$ w taki sposób, aby model dobrze reprezentował dane, cokolwiek miałoby to znaczyć. Posłuż się poniższą komórką z kodem."
      ]
    },
    {
      "cell_type": "code",
      "execution_count": 10,
      "metadata": {
        "colab": {
          "base_uri": "https://localhost:8080/",
          "height": 283
        },
        "id": "rOyRS_OSNkWz",
        "outputId": "553f0b82-14ec-41c7-bd85-7ca9ccc6d043"
      },
      "outputs": [
        {
          "data": {
            "image/png": "[encoded data removed]",
            "text/plain": [
              "<Figure size 640x480 with 1 Axes>"
            ]
          },
          "metadata": {},
          "output_type": "display_data"
        }
      ],
      "source": [
        "def model(parametry, x):\n",
        "  a, b = parametry\n",
        "  return a * x + b\n",
        "\n",
        "# W tym miejscu wprowadzasz swoje oszacowania (ang. estimates) wartości parametrów modelu\n",
        "a_est, b_est = 0.02,4.5\n",
        "\n",
        "# utwórz wartości x dla całego zakresu zmienności na osi x\n",
        "X_test = np.linspace(start=X.min(), stop=X.max(), num=300)\n",
        "# \"odpytaj\" model dla zakresu osi x objętego pomiarami\n",
        "Y_pred = model(parametry=[a_est, b_est], x=X_test)\n",
        "\n",
        "plt.scatter(X, Y)\n",
        "plt.plot(X_test, Y_pred, color='tab:orange')\n",
        "plt.xlabel('x - PKB na osobę', fontsize=14)\n",
        "plt.ylabel('y - poczucie szczęścia', fontsize=14)\n",
        "plt.show()"
      ]
    },
    {
      "cell_type": "markdown",
      "metadata": {
        "id": "oBY26XrPQANz"
      },
      "source": [
        "**Zastanów się**: co to właściwie znaczy, że jakieś zjawisko/proces ma charakter liniowy? Jak rozpoznać, że zjawisko/proces da się skutecznie opisywać modelem liniowym? <br>\n",
        "Czy zależność między PKB na osobę a poczuciem szczęścia jest liniowa?"
      ]
    },
    {
      "attachments": {},
      "cell_type": "markdown",
      "metadata": {
        "id": "TLGKHa2DWDsJ"
      },
      "source": [
        "**Błąd średniokwadratowy** <br>\n",
        "Niech błąd przybliżenia dla pojedynczej $i$-tej pary pomiarów wynosi:\n",
        "$$e_i=y_i-\\overline{y_i}.$$\n",
        "Wybierz jeden z poniższych wzorów jako miarę błędu popełnianego przez model na danych $X,Y$:\n",
        "\\begin{equation}\n",
        "Q(a,b) = \\sum_{i=1}^Ne_i^2 \\ ,\n",
        "\\tag{1}\n",
        "\\end{equation}\n",
        "\n",
        "\\begin{equation}\n",
        "Q(a,b) = \\frac{1}{N}\\sum_{i=1}^Ne_i^2 \\ ,\n",
        "\\tag{2}\n",
        "\\end{equation}\n",
        "\n",
        "\\begin{equation}\n",
        "Q(a,b) = \\frac{1}{N}\\sqrt{\\sum_{i=1}^Ne_i^2}\\ .\n",
        "\\tag{3}\n",
        "\\end{equation}"
      ]
    },
    {
      "attachments": {},
      "cell_type": "markdown",
      "metadata": {
        "id": "8MORrhCBYKYI"
      },
      "source": [
        "**Ćwiczenie 5:** Zmodyfikuj komórkę z kodem tak, aby wizualizacja modelu na tle danych była uzupełniona wartością błędu przybliżenia. <br>\n",
        "Dzięki temu metodę prób i błędów będzie można przeprowadzić bardziej precyzyjnie. <br>\n",
        "**Zastanów się**: jakie ma znaczenie, które z kryteriów jakości $(1)$, $(2)$, $(3)$ zostało użyte."
      ]
    },
    {
      "cell_type": "code",
      "execution_count": 11,
      "metadata": {},
      "outputs": [
        {
          "data": {
            "image/png": "[encoded data removed]",
            "text/plain": [
              "<Figure size 640x480 with 1 Axes>"
            ]
          },
          "metadata": {},
          "output_type": "display_data"
        }
      ],
      "source": [
        "\n",
        "plt.scatter(X,Y)\n",
        "plt.plot(X_test, Y_pred, color='tab:orange')\n",
        "plt.xlabel('x - PKB na osobę', fontsize=14)\n",
        "plt.ylabel('y - poczucie szczęścia', fontsize=14)\n",
        "\n",
        "\n",
        "Y_err = np.sum((Y - model([a_est, b_est], X))**2) * 1/len(Y) \n",
        "plt.errorbar(X, Y, yerr=Y_err, fmt='o', color='black', capsize=5, label='Error')\n",
        "plt.show()"
      ]
    },
    {
      "attachments": {},
      "cell_type": "markdown",
      "metadata": {
        "id": "FkdL_Jxodihg"
      },
      "source": [
        "**Ćwiczenie 6:** Poniżej znajduje się kopia ostatniej komórki. Jedyna różnica jest teraz taka, że trzeba **wyznaczyć parametry modelu sposobem analitycznym**.\n",
        "\n",
        "Odpowiednie wzory powinny były pojawić się już na ćwiczeniach z tego kursu. Możesz również dodać wyznaczenie wartości kryterium jakości i porównać uzyskaną wartość z tą, którą udało Ci się osiągnąć metodą prób i błędów. <br>\n",
        "**Zastanów się**: czy jest możliwe osiągnięcie wyniku lepszego niż zwraca metoda analityczna?"
      ]
    },
    {
      "cell_type": "code",
      "execution_count": 13,
      "metadata": {},
      "outputs": [
        {
          "name": "stdout",
          "output_type": "stream",
          "text": [
            "y = 0.00880070461995287 * x + 5.57619058547489\n"
          ]
        },
        {
          "data": {
            "image/png": "[encoded data removed]",
            "text/plain": [
              "<Figure size 640x480 with 1 Axes>"
            ]
          },
          "metadata": {},
          "output_type": "display_data"
        }
      ],
      "source": [
        "def model(parametry, x):\n",
        "  a, b = parametry\n",
        "  return a * x + b\n",
        "\n",
        "#  w tym miejscu wprowadzasz wzory analityczne np. https://www.statystyczny.pl/regresja-liniowa/\n",
        "\n",
        "\n",
        "\n",
        "a_est = np.sum((X - np.mean(X)) * (Y - np.mean(Y))) / np.sum((X - np.mean(X))**2)\n",
        "b_est = np.mean(Y) - a_est * np.mean(X)\n",
        "\n",
        "print(f\"y = {a_est} * x + {b_est}\")\n",
        "\n",
        "# utwórz wartości x dla całego zakresu zmienności na osi x\n",
        "X_test = np.linspace(start=X.min(), stop=X.max(), num=300)\n",
        "# \"odpytaj\" model dla zakresu osi x objętego pomiarami\n",
        "Y_pred = model(parametry=[a_est, b_est], x=X_test)\n",
        "\n",
        "plt.scatter(X,Y)\n",
        "plt.plot(X_test, Y_pred, color='tab:orange')\n",
        "plt.xlabel('x - PKB na osobę', fontsize=14)\n",
        "plt.ylabel('y - poczucie szczęścia', fontsize=14)\n",
        "plt.show()"
      ]
    },
    {
      "attachments": {},
      "cell_type": "markdown",
      "metadata": {
        "id": "6JOnfnFXLxmv"
      },
      "source": [
        "**Ćwiczenie 7:** Zastosuj poznany na ćwiczeniach algorytm analityczny do estymacji parametrów modelu liniowego:\n",
        "\\begin{equation}\n",
        "\\widehat{\\theta} = (XX^T)^{-1} XY^T, \n",
        "\\tag{4}\n",
        "\\end{equation}\n",
        "gdzie $\\theta = \\begin{bmatrix} a \\\\ b \\end{bmatrix}$. Przemyśl konstrukcję macierzy $X$. Implementacja wzoru (4) powinna zająć jedną linijkę kodu."
      ]
    },
    {
      "cell_type": "code",
      "execution_count": 20,
      "metadata": {
        "id": "DM-mS62_dqij"
      },
      "outputs": [
        {
          "ename": "ValueError",
          "evalue": "matmul: Input operand 0 does not have enough dimensions (has 0, gufunc core with signature (n?,k),(k,m?)->(n?,m?) requires 1)",
          "output_type": "error",
          "traceback": [
            "\u001b[0;31m---------------------------------------------------------------------------\u001b[0m",
            "\u001b[0;31mValueError\u001b[0m                                Traceback (most recent call last)",
            "Cell \u001b[0;32mIn[20], line 7\u001b[0m\n\u001b[1;32m      3\u001b[0m   \u001b[38;5;28;01mreturn\u001b[39;00m a \u001b[38;5;241m*\u001b[39m x \u001b[38;5;241m+\u001b[39m b\n\u001b[1;32m      5\u001b[0m \u001b[38;5;66;03m#  w tym miejscu wprowadzasz wzory analityczne\u001b[39;00m\n\u001b[0;32m----> 7\u001b[0m _T \u001b[38;5;241m=\u001b[39m \u001b[43m(\u001b[49m\u001b[43m(\u001b[49m\u001b[43mX\u001b[49m\u001b[43m \u001b[49m\u001b[38;5;241;43m@\u001b[39;49m\u001b[43m \u001b[49m\u001b[43mX\u001b[49m\u001b[38;5;241;43m.\u001b[39;49m\u001b[43mT\u001b[49m\u001b[43m)\u001b[49m\u001b[43m \u001b[49m\u001b[38;5;241;43m*\u001b[39;49m\u001b[38;5;241;43m*\u001b[39;49m\u001b[43m \u001b[49m\u001b[38;5;241;43m-\u001b[39;49m\u001b[38;5;241;43m1\u001b[39;49m\u001b[43m \u001b[49m\u001b[43m)\u001b[49m\u001b[38;5;241;43m@\u001b[39;49m\u001b[43m \u001b[49m\u001b[43mX\u001b[49m \u001b[38;5;241m@\u001b[39m Y\u001b[38;5;241m.\u001b[39mT\n\u001b[1;32m      9\u001b[0m \u001b[38;5;28;01mdef\u001b[39;00m \u001b[38;5;21mplot_fig\u001b[39m(X: np\u001b[38;5;241m.\u001b[39mndarray, Y: np\u001b[38;5;241m.\u001b[39mndarray, coeff: np\u001b[38;5;241m.\u001b[39mndarray):\n\u001b[1;32m     10\u001b[0m   X_test \u001b[38;5;241m=\u001b[39m np\u001b[38;5;241m.\u001b[39mlinspace(start\u001b[38;5;241m=\u001b[39mX\u001b[38;5;241m.\u001b[39mmin(), stop\u001b[38;5;241m=\u001b[39mX\u001b[38;5;241m.\u001b[39mmax(), num\u001b[38;5;241m=\u001b[39m\u001b[38;5;241m300\u001b[39m)\n",
            "\u001b[0;31mValueError\u001b[0m: matmul: Input operand 0 does not have enough dimensions (has 0, gufunc core with signature (n?,k),(k,m?)->(n?,m?) requires 1)"
          ]
        }
      ],
      "source": [
        "def model(parametry, x):\n",
        "  a, b = parametry\n",
        "  return a * x + b\n",
        "\n",
        "#  w tym miejscu wprowadzasz wzory analityczne\n",
        "\n",
        "_T = ((X @ X.T) ** -1 )@ X @ Y.T\n",
        "\n",
        "def plot_fig(X: np.ndarray, Y: np.ndarray, coeff: np.ndarray):\n",
        "  X_test = np.linspace(start=X.min(), stop=X.max(), num=300)\n",
        "  func_str = \"y = \"\n",
        "  Y_pred = model(coeff, X_test)\n",
        "  for i, c in enumerate(coeff.ravel()[::-1]):\n",
        "      func_str += f\"{round(c, 4)} * x ** {i} + \"\n",
        "\n",
        "  plt.scatter(X, Y, label='dane rzeczywiste')\n",
        "  plt.plot(X_test, Y_pred, color='tab:orange', label='estymowany trend')\n",
        "  plt.xlabel('x - PKB na osobę', fontsize=14)\n",
        "  plt.ylabel('y - poczucie szczęścia', fontsize=14)\n",
        "  plt.title(f\"Dopasowano funkcję: {func_str[:-2]}\")\n",
        "  plt.legend()\n",
        "  plt.show()\n",
        "\n",
        "plot_fig(X, Y, _T)"
      ]
    },
    {
      "cell_type": "markdown",
      "metadata": {
        "id": "60tDMmnklFLV"
      },
      "source": [
        "Gdy poznasz procedury optymalizacji numerycznej (zajęcia numer 5), będziesz w stanie dopasowywać do danych modele, które nie dadzą się zapisać jako liniowe względem parametrów."
      ]
    },
    {
      "cell_type": "markdown",
      "metadata": {
        "id": "G0FSBweSqvyp"
      },
      "source": [
        "### Generator sztucznych danych\n",
        "Metoda najmniejszych kwadratów zasługuje w pełni na swoją nazwę dopiero w warunkach losowych (zmienna wyjściowa $y$ mierzona jest przy obecności zakłóceń). <br>\n",
        "Poniżej znajduje się kod generatora sztucznych danych, którym można się posłużyć do badania własności samej metody najmniejszych kwadratów. <br>\n",
        "Generator losuje zestaw $\\{x_i\\}_{i=1}^N$ z zadanego rozkładu, następnie oblicza ,,idealne'' wartości wyjść z podanego modelu:\n",
        "$$ \\overline{y}_i = F(\\theta,x_i)$$ \n",
        "o zadanych z góry wartościach parametrów $\\theta$. Na koniec dodawane lub wymnażane są zakłocenia $z_i$ o zadanym rozkładzie:  \n",
        "$$ y_i = \\overline{y}_i + z_i$$\n",
        "lub \n",
        "$$ y_i = \\overline{y}_i \\cdot z_i.$$\n",
        "Użytkownikowi zwracane są macierze $X, Y$:\n",
        "$$X = \\begin{bmatrix} x_1 & x_2 & \\cdots & x_N \\end{bmatrix},$$\n",
        "$$Y = \\begin{bmatrix} y_1 & y_2 & \\cdots & y_N \\end{bmatrix},$$\n",
        "natomiast macierz \n",
        "$$Z = \\begin{bmatrix} z_1 & z_2 & \\cdots & z_N \\end{bmatrix}$$\n",
        "nie jest zwracana. <br>\n",
        "Sprawdź z wykładu pojęcie *obiekt w klasie modeli*, aby lepiej zrozumieć zamysł stojący za generatorem.\n"
      ]
    },
    {
      "cell_type": "code",
      "execution_count": null,
      "metadata": {
        "id": "e8KPkqFNGYUZ"
      },
      "outputs": [],
      "source": [
        "def generator(rozklad_x, model, rozklad_z, typ_z):\n",
        "  # rozklad_x musi w pełni określać macierz X,\n",
        "  # model musi mieć określone wartości parametrów, za wejście będzie wstawiana X\n",
        "  # rozkład_z musi w pełni określać macierz Z\n",
        "  # typ_z może być 'addytywne' lub 'multiplikatywne'\n",
        "\n",
        "  X = rozklad_x()\n",
        "  Y_pred = model(X)\n",
        "  #print(X.shape)\n",
        "  if typ_z == 'addytywne':\n",
        "    Y = Y_pred + rozklad_z()\n",
        "  elif typ_z == 'multiplikatywne':\n",
        "    Y = Y_pred * rozklad_z()\n",
        "\n",
        "  return X, Y"
      ]
    },
    {
      "cell_type": "markdown",
      "metadata": {
        "id": "qsdR16F3HYnh"
      },
      "source": [
        "Jeżeli nie pamiętasz programowania funkcyjnego, nie przejmuj się kodem generatora. Wystarczy, że będziesz umieć go używać. Poniżej jest przykład, który demonstruje, jak elastyczne są jego parametry wywołania. Wypróbuj go zwłaszcza dla różnych rozkładów dla zmiennej $x$ i zakłóceń $z$. "
      ]
    },
    {
      "cell_type": "code",
      "execution_count": null,
      "metadata": {
        "colab": {
          "base_uri": "https://localhost:8080/",
          "height": 279
        },
        "id": "QxlTJyxH_vmX",
        "outputId": "5aaae2df-5383-4ea7-b3c7-1db1e6556f25"
      },
      "outputs": [],
      "source": [
        "def model(parametry, x):\n",
        "  a, b = parametry\n",
        "  return a*x + b\n",
        "\n",
        "N = 100\n",
        "X, Y = generator(\n",
        "  rozklad_x=lambda: np.random.uniform(low=0,high=1, size=N),\n",
        "  model=lambda x: model(parametry=[0.5, 1], x=x),\n",
        "  rozklad_z=lambda: np.random.normal(loc=0,scale=0.05, size=N),\n",
        "  typ_z='addytywne',\n",
        ")\n",
        "\n",
        "plt.scatter(X,Y)\n",
        "plt.xlabel('x')\n",
        "plt.ylabel('y')\n",
        "plt.show()"
      ]
    },
    {
      "attachments": {},
      "cell_type": "markdown",
      "metadata": {
        "id": "AdPfTKQTInUo"
      },
      "source": [
        "**Ćwiczenie 8:** <br>\n",
        "Udajemy, że nie wiemy, z jakimi wartościami parametrów $\\theta$ modelu został uruchomiony generator. Wiemy jedynie, że zakłócenia miały rozkład normalny o zerowej wartości oczekiwanej i znamy jego odchylenie standardowe (parametr ```scale``` funkcji ```normal```). <br>\n",
        "Należy zbadać jak zachowuje się błąd estymacji $\\theta - \\widehat{\\theta}$ w zależności od długości serii pomiarowej $N$ oraz od odchylenia standardowego zakłóceń. Wykonaj odpowiednie symulacje."
      ]
    },
    {
      "cell_type": "code",
      "execution_count": null,
      "metadata": {},
      "outputs": [],
      "source": []
    }
  ],
  "metadata": {
    "colab": {
      "collapsed_sections": [],
      "name": "MSiD_3_metoda najmniejszych kwadratów.ipynb",
      "provenance": []
    },
    "kernelspec": {
      "display_name": "Python 3",
      "name": "python3"
    },
    "language_info": {
      "codemirror_mode": {
        "name": "ipython",
        "version": 3
      },
      "file_extension": ".py",
      "mimetype": "text/x-python",
      "name": "python",
      "nbconvert_exporter": "python",
      "pygments_lexer": "ipython3",
      "version": "3.10.12"
    }
  },
  "nbformat": 4,
  "nbformat_minor": 0
}
