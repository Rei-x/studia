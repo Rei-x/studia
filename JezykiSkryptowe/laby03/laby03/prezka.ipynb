{
 "cells": [
  {
   "cell_type": "code",
   "execution_count": 2,
   "metadata": {},
   "outputs": [
    {
     "ename": "TypeError",
     "evalue": "'tuple' object does not support item assignment",
     "output_type": "error",
     "traceback": [
      "\u001b[0;31m---------------------------------------------------------------------------\u001b[0m",
      "\u001b[0;31mTypeError\u001b[0m                                 Traceback (most recent call last)",
      "Cell \u001b[0;32mIn[2], line 6\u001b[0m\n\u001b[1;32m      1\u001b[0m \u001b[38;5;28;01mimport\u001b[39;00m \u001b[38;5;21;01mdatetime\u001b[39;00m\n\u001b[1;32m      4\u001b[0m krotka \u001b[38;5;241m=\u001b[39m (\u001b[38;5;124m\"\u001b[39m\u001b[38;5;124mmario\u001b[39m\u001b[38;5;124m\"\u001b[39m, \u001b[38;5;241m1\u001b[39m, datetime\u001b[38;5;241m.\u001b[39mdatetime\u001b[38;5;241m.\u001b[39mnow())\n\u001b[0;32m----> 6\u001b[0m \u001b[43mkrotka\u001b[49m\u001b[43m[\u001b[49m\u001b[38;5;241;43m1\u001b[39;49m\u001b[43m]\u001b[49m \u001b[38;5;241m=\u001b[39m \u001b[38;5;241m2\u001b[39m\n",
      "\u001b[0;31mTypeError\u001b[0m: 'tuple' object does not support item assignment"
     ]
    }
   ],
   "source": [
    "import datetime\n",
    "\n",
    "\n",
    "krotka = (\"mario\", 1, datetime.datetime.now())\n",
    "\n",
    "krotka[1] = 2"
   ]
  },
  {
   "cell_type": "code",
   "execution_count": 3,
   "metadata": {},
   "outputs": [
    {
     "data": {
      "text/plain": [
       "{'imie': 'mario',\n",
       " 'wiek': 2,\n",
       " 'data': datetime.datetime(2024, 3, 26, 7, 29, 16, 725365)}"
      ]
     },
     "execution_count": 3,
     "metadata": {},
     "output_type": "execute_result"
    }
   ],
   "source": [
    "slownik = {\n",
    "    \"imie\": \"mario\",\n",
    "    \"wiek\": 1,\n",
    "    \"data\": datetime.datetime.now()\n",
    "}\n",
    "\n",
    "slownik[\"wiek\"] = 2\n",
    "\n",
    "slownik"
   ]
  },
  {
   "cell_type": "code",
   "execution_count": 4,
   "metadata": {},
   "outputs": [
    {
     "data": {
      "text/plain": [
       "1"
      ]
     },
     "execution_count": 4,
     "metadata": {},
     "output_type": "execute_result"
    }
   ],
   "source": [
    "from collections import namedtuple\n",
    "\n",
    "\n",
    "Nazwana_krotka = namedtuple(\"Nazwana_krotka\", [\"imie\", \"wiek\", \"data\"])\n",
    "\n",
    "moja_nazwana_krotka = Nazwana_krotka(\"mario\", 1, datetime.datetime.now())\n",
    "\n",
    "\n",
    "moja_nazwana_krotka.wiek"
   ]
  },
  {
   "cell_type": "code",
   "execution_count": 5,
   "metadata": {},
   "outputs": [
    {
     "data": {
      "text/plain": [
       "'Hello mario'"
      ]
     },
     "execution_count": 5,
     "metadata": {},
     "output_type": "execute_result"
    }
   ],
   "source": [
    "from typing import NamedTuple\n",
    "\n",
    "\n",
    "class MojaTypowanaKrotka(NamedTuple):\n",
    "    imie: str\n",
    "    wiek: int | None\n",
    "    data: datetime.datetime\n",
    "    \n",
    "\n",
    "moja_typowana_krotka = MojaTypowanaKrotka(\"mario\", None, datetime.datetime.now())\n",
    "\n",
    "moja_typowana_krotka[0]\n",
    "\n",
    "moja_typowana_krotka"
   ]
  },
  {
   "cell_type": "code",
   "execution_count": null,
   "metadata": {},
   "outputs": [],
   "source": [
    "slownik = {\n",
    "  \"imie\": \"mario\",\n",
    "  \"wiek\": 1,\n",
    "  \"data\": datetime.datetime.now()\n",
    "}\n",
    "\n",
    "class MojaKlasa():\n",
    "  imie: str\n",
    "  wiek: int\n",
    "  data: datetime.datetime\n",
    "  \n",
    "  def __init__(self, imie: str, wiek: int, data: datetime.datetime):\n",
    "    self.imie = imie\n",
    "    self.wiek = wiek\n",
    "    self.data = data\n",
    "    \n",
    "    \n",
    "moja_klasa = MojaKlasa(\"mario\", 1, datetime.datetime.now())\n",
    "\n"
   ]
  },
  {
   "cell_type": "code",
   "execution_count": null,
   "metadata": {},
   "outputs": [],
   "source": [
    "from dataclasses import dataclass\n",
    "\n",
    "\n",
    "@dataclass(frozen=True)\n",
    "class MojaDataClassa():\n",
    "  imie: str\n",
    "  wiek: int\n",
    "  data: datetime.datetime\n",
    "  \n",
    "  \n",
    "moja_data_classa = MojaDataClassa(\"mario\", 1, datetime.datetime.now())  \n",
    "\n",
    "moja_data_classa.imie = \"mario2\""
   ]
  }
 ],
 "metadata": {
  "kernelspec": {
   "display_name": "laby03-r6_3uAJd-py3.11",
   "language": "python",
   "name": "python3"
  },
  "language_info": {
   "codemirror_mode": {
    "name": "ipython",
    "version": 3
   },
   "file_extension": ".py",
   "mimetype": "text/x-python",
   "name": "python",
   "nbconvert_exporter": "python",
   "pygments_lexer": "ipython3",
   "version": "3.11.8"
  }
 },
 "nbformat": 4,
 "nbformat_minor": 2
}
