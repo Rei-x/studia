{
 "cells": [
  {
   "cell_type": "code",
   "execution_count": 17,
   "metadata": {},
   "outputs": [
    {
     "data": {
      "text/plain": [
       "AIMessage(content='Natalia Piórkowska jest polską aktorką teatralną i filmową. Znana głównie z ról w popularnych polskich serialach telewizyjnych, takich jak \"M jak miłość\" czy \"Barwy szczęścia\". Grała także w wielu przedstawieniach teatralnych, zdobywając uznanie widzów i krytyków. Jest cenioną artystką w Polsce.')"
      ]
     },
     "execution_count": 17,
     "metadata": {},
     "output_type": "execute_result"
    }
   ],
   "source": [
    "from dotenv import load_dotenv\n",
    "from langchain_openai import ChatOpenAI\n",
    "\n",
    "load_dotenv()\n",
    "\n",
    "\n",
    "llm = ChatOpenAI()\n",
    "\n",
    "llm.invoke(\"Kim jest Natalia Piórkowska?\")\n"
   ]
  },
  {
   "cell_type": "code",
   "execution_count": 18,
   "metadata": {},
   "outputs": [],
   "source": [
    "from langchain_core.prompts import ChatPromptTemplate\n",
    "\n",
    "prompt = ChatPromptTemplate.from_messages([\n",
    "    (\"system\", \"Jesteś ekspertem od osób pracujących na Politechnice Wrocławskiej.\"),\n",
    "    (\"user\", \"{input}\")\n",
    "])"
   ]
  },
  {
   "cell_type": "code",
   "execution_count": 19,
   "metadata": {},
   "outputs": [
    {
     "data": {
      "text/plain": [
       "AIMessage(content='Natalia Piórkowska jest pracownikiem naukowym na Politechnice Wrocławskiej. Jest specjalistką w dziedzinie informatyki, zajmuje się m.in. sztuczną inteligencją, przetwarzaniem danych oraz analizą danych. Może prowadzić badania naukowe, wykłady oraz projekty związane z jej obszarem ekspertyzy. Jeśli chcesz uzyskać więcej informacji na temat konkretnych osiągnięć Natalii Piórkowskiej, sugeruję skontaktowanie się bezpośrednio z nią lub z odpowiednią jednostką na Politechnice Wrocławskiej.')"
      ]
     },
     "execution_count": 19,
     "metadata": {},
     "output_type": "execute_result"
    }
   ],
   "source": [
    "chain = prompt | llm \n",
    "\n",
    "chain.invoke({\"input\": \"Kim jest Natalia Piórkowska?\"})"
   ]
  },
  {
   "cell_type": "code",
   "execution_count": 20,
   "metadata": {},
   "outputs": [
    {
     "data": {
      "text/plain": [
       "'Natalia Piórkowska jest pracownikiem naukowym na Politechnice Wrocławskiej. Jest specjalistką w dziedzinie inżynierii środowiska. Może prowadzić badania, nauczać studentów oraz uczestniczyć w projektach badawczych związanych z ochroną środowiska i zrównoważonym rozwojem. Jeśli chcesz uzyskać więcej informacji na temat konkretnych osiągnięć lub zainteresowań naukowych Natalii Piórkowskiej, warto skontaktować się z nią bezpośrednio lub sprawdzić jej profil na stronie internetowej uczelni.'"
      ]
     },
     "execution_count": 20,
     "metadata": {},
     "output_type": "execute_result"
    }
   ],
   "source": [
    "from langchain_core.output_parsers import StrOutputParser\n",
    "\n",
    "output_parser = StrOutputParser()\n",
    "\n",
    "chain = prompt | llm | output_parser\n",
    "\n",
    "chain.invoke({\"input\": \"Kim jest Natalia Piórkowska?\"})"
   ]
  },
  {
   "cell_type": "code",
   "execution_count": 26,
   "metadata": {},
   "outputs": [
    {
     "name": "stdout",
     "output_type": "stream",
     "text": [
      "[Document(page_content='\\n\\nPracownia Inżynierii Oprogramowania i Nauki o Danych / Katedra Informatyki Stosowanej \\n\\n\\n\\n\\n \\n \\n    \\n\\n\\n\\n\\n\\n\\n\\nTWOJA PRZEGLĄDARKA JEST NIEAKTUALNA.\\nWykryliśmy, że używasz nieaktualnej przeglądarki, przez co nasz serwis może dla Ciebie działać niepoprawnie. Zalecamy aktualizację lub przejście na inną przeglądarkę. \\n\\n\\n\\n\\n\\n\\n\\n\\n\\nA\\nA+\\nA++\\n\\n\\nA\\nA\\nA\\nA\\n\\n\\n\\nPolskipl\\n•\\nEnglishen\\n\\n\\n\\n                        Logowanie                    \\n\\n\\n\\n\\n\\n\\n\\n\\n\\nSzukaj\\n\\n\\n\\n\\n\\n\\nSzukaj \\n\\n\\n \\n\\n\\n\\n \\n\\n\\n \\n\\n\\n\\n\\nimage/svg+xml\\n\\n\\n\\n\\n\\n\\n\\n\\n\\n\\n\\n\\n\\n\\n\\n\\n\\n                    \\xa0\\n                \\n\\n\\n\\n\\n\\n\\n\\n\\nKatedra Informatyki Stosowanej\\n\\n\\n\\nMenu \\n Powrót\\n\\nKatedraAktualnościDydaktykaBadaniaStrukturaPracownicyKontakt \\n\\n\\n\\n\\n\\n\\n\\n\\n\\nStrona główna\\n\\nStruktura\\n\\nZakład Inżynierii Oprogramowania i Nauki o Danych\\n\\n\\n\\n\\n\\n\\n\\n\\nPracownia Inżynierii Oprogramowania i Nauki o Danych\\n\\n\\n\\n\\n\\n\\n\\n\\nKierownik: dr hab. inż. Lech Madeyski, prof. uczelni\\n\\n\\n\\n\\n\\ndr hab. inż. Lech Madeyski, prof. uczelniZastępca Kierownika KatedryPok.: B4 415; Tel: 71-3202886;\\xa0e-mail,\\xa0dblp,\\xa0DONA\\n\\n\\n\\n\\n\\ndr inż. Dariusz KoniecznyAdiunkt dydaktycznyPok.: D-2 201/15; Tel: 71-3203602;\\xa0e-mail,\\xa0dblp,\\xa0DONA\\n\\n\\n\\n\\n\\ndr inż. Jan KwiatkowskiAdiunkt dydaktycznyPok.: D-2 201/15; Tel: 71-3203602;\\xa0e-mail,\\xa0dblp,\\xa0DONA\\n\\n\\n\\n\\n\\ndr inż. Zdzisław SpławskiAdiunkt dydaktycznyPok.: D-2 201/7a; Tel: 71-3202944;\\xa0e-mail,\\xa0dblp,\\xa0DONA\\n\\n\\n\\n\\n\\ndr inż. Wojciech ThomasAdiunkt dydaktycznyPok.: B4/415; Tel: 71-3202886;\\xa0e-mail,\\xa0dblp,\\xa0DONA\\n\\n\\n\\n\\n\\ndr inż. Lech TuzinkiewiczAdiunkt dydaktycznyPok.: D-2 201/14; Tel: 71-3202380;\\xa0e-mail,\\xa0dblp,\\xa0DONA\\n\\n\\n\\n\\n\\n\\n\\n\\ndr inż. Anita Walkowiak-GallAdiunkt dydaktycznyPok.: D-2 201/19; Tel: 71-3203105;\\xa0e-mail,\\xa0dblp,\\xa0DONA\\n\\n\\n\\n\\n\\nmgr Urszula StaszakAsystent dydaktycznyPok.: D-2, 201/17; Tel: 71-3204653;\\xa0e-mail,\\xa0dblp,\\xa0DONA\\n\\n\\n\\n\\n\\nmgr inż. Dariusz GallAsystent dydaktycznyPok.: D-2, 302a; Tel: 71-3203969;\\xa0\\xa0e-mail,\\xa0dblp,\\xa0DONA\\n\\n\\n\\n\\n\\ndr inż. Natalia PiórkowskaAsystent dydaktycznyPok.: D-2, 302a;\\xa0Tel: 71-3203969;\\xa0e-mail,\\xa0dblp,\\xa0DONA\\n\\n\\n\\n\\n\\nmgr inż. Szymon Stradowskidoktorante-mail,\\xa0dblp,\\xa0DONA\\n\\n\\n\\n \\n\\n\\n \\n\\n\\n\\n\\n\\n\\n\\nDrukuj\\n\\n\\n\\n\\n\\n\\n\\n\\n\\n\\n\\n\\n\\n\\n\\n\\n\\n\\n\\n\\n\\nZakład Systemów InformatycznychZakład Inżynierii Oprogramowania i Nauki o DanychPracownia Inżynierii Oprogramowania i Nauki o DanychPracownia Bezpieczeństwa i Niezawodności Systemów InformatycznychPracownia Systemów Baz Danych \\n\\n\\n\\n\\n\\nSeminaria\\n\\nSeminarium Międzyuczelniane\\n\\nSeminarium Inżynierii Oprogramowania\\n\\nCzasopisma\\n\\n\\n\\n\\nKontakt\\n\\nKATEDRA INFORMATYKI STOSOWANEJWydział Informatyki i TelekomunikacjiPolitechnika Wrocławska\\nAdres:Wybrzeże Wyspiańskiego 2750-370 Wrocław\\nTelefon:+48 71 320 3516\\nE-mail:k45.w4n@pwr.edu.pl \\n\\n\\n\\n\\n\\n\\n\\n\\n\\n\\n\\n\\n\\n\\n\\n\\n\\n\\n\\n\\n\\n\\n\\n\\n\\n\\n\\n\\n\\n\\n\\n\\n\\n\\n\\n\\n\\n\\n\\n\\n\\n\\n\\n\\n\\n\\n\\n\\n\\n\\n\\n\\n\\n \\n\\n\\n\\nWybrzeże Wyspiańskiego 2750-372 Wrocław \\n\\n\\n\\n        Znajdź nas:                                            \\nFacebook\\n\\n\\n \\n\\n\\n\\n\\n\\n\\r\\n            Politechnika Wrocławska © 2024        \\n\\n\\n\\n\\n\\nNasze strony internetowe i oparte na nich usługi używają informacji zapisanych w plikach cookies. Korzystając z serwisu wyrażasz zgodę na używanie plików cookies zgodnie z aktualnymi ustawieniami przeglądarki, które możesz zmienić w dowolnej chwili. Ochrona danych osobowych\\xa0» \\nAkceptuję\\n\\n\\n\\n\\n\\n\\n', metadata={'source': 'https://kis.pwr.edu.pl/struktura/zaklad-inzynierii-oprogramowania-i-nauki-o-danych/pracownia-inzynierii-oprogramowania-i-nauki-o-danych', 'title': 'Pracownia Inżynierii Oprogramowania i Nauki o Danych / Katedra Informatyki Stosowanej', 'language': 'pl'})]\n"
     ]
    }
   ],
   "source": [
    "from langchain_community.document_loaders import WebBaseLoader\n",
    "loader = WebBaseLoader(\"https://kis.pwr.edu.pl/struktura/zaklad-inzynierii-oprogramowania-i-nauki-o-danych/pracownia-inzynierii-oprogramowania-i-nauki-o-danych\")\n",
    "\n",
    "docs = loader.load()\n",
    "print(docs)"
   ]
  },
  {
   "cell_type": "code",
   "execution_count": 22,
   "metadata": {},
   "outputs": [],
   "source": [
    "from langchain_openai import OpenAIEmbeddings\n",
    "\n",
    "embeddings = OpenAIEmbeddings()"
   ]
  },
  {
   "cell_type": "code",
   "execution_count": 31,
   "metadata": {},
   "outputs": [],
   "source": [
    "from langchain_community.vectorstores.faiss import FAISS\n",
    "from langchain_text_splitters import RecursiveCharacterTextSplitter\n",
    "\n",
    "text_splitter = RecursiveCharacterTextSplitter(chunk_size=100, chunk_overlap=20)\n",
    "documents = text_splitter.split_documents(docs)\n",
    "vector = FAISS.from_documents(documents, embeddings)"
   ]
  },
  {
   "cell_type": "code",
   "execution_count": 37,
   "metadata": {},
   "outputs": [],
   "source": [
    "from langchain.chains.combine_documents import create_stuff_documents_chain\n",
    "\n",
    "prompt = ChatPromptTemplate.from_template(\"\"\"Odpowiedz na poniższe pytanie jedynie używając informacji zawartych w poniższym tekście.\n",
    "\n",
    "<context>\n",
    "{context}\n",
    "</context>\n",
    "\n",
    "Question: {input}\"\"\")\n",
    "\n",
    "document_chain = create_stuff_documents_chain(llm, prompt)"
   ]
  },
  {
   "cell_type": "code",
   "execution_count": 38,
   "metadata": {},
   "outputs": [],
   "source": [
    "from langchain.chains import create_retrieval_chain\n",
    "\n",
    "retriever = vector.as_retriever(search_kwargs={\"k\": 1})\n",
    "retrieval_chain = create_retrieval_chain(retriever, document_chain)"
   ]
  },
  {
   "cell_type": "code",
   "execution_count": 40,
   "metadata": {},
   "outputs": [
    {
     "data": {
      "text/plain": [
       "'Natalia Piórkowska jest dr inżynierem oraz asystentem dydaktycznym.'"
      ]
     },
     "execution_count": 40,
     "metadata": {},
     "output_type": "execute_result"
    }
   ],
   "source": [
    "response = retrieval_chain.invoke({\"input\": \"Kim jest Natalia Piórkowska?\"})\n",
    "\n",
    "\n",
    "response[\"answer\"]"
   ]
  },
  {
   "cell_type": "code",
   "execution_count": 41,
   "metadata": {},
   "outputs": [
    {
     "data": {
      "text/plain": [
       "[Document(page_content='dr inż. Natalia PiórkowskaAsystent dydaktycznyPok.: D-2, 302a;\\xa0Tel: 71-3203969;\\xa0e-mail,\\xa0dblp,\\xa0DONA', metadata={'source': 'https://kis.pwr.edu.pl/struktura/zaklad-inzynierii-oprogramowania-i-nauki-o-danych/pracownia-inzynierii-oprogramowania-i-nauki-o-danych', 'title': 'Pracownia Inżynierii Oprogramowania i Nauki o Danych / Katedra Informatyki Stosowanej', 'language': 'pl'})]"
      ]
     },
     "execution_count": 41,
     "metadata": {},
     "output_type": "execute_result"
    }
   ],
   "source": [
    "response[\"context\"]"
   ]
  }
 ],
 "metadata": {
  "kernelspec": {
   "display_name": "rag-eLWoBZjN-py3.11",
   "language": "python",
   "name": "python3"
  },
  "language_info": {
   "codemirror_mode": {
    "name": "ipython",
    "version": 3
   },
   "file_extension": ".py",
   "mimetype": "text/x-python",
   "name": "python",
   "nbconvert_exporter": "python",
   "pygments_lexer": "ipython3",
   "version": "3.11.8"
  }
 },
 "nbformat": 4,
 "nbformat_minor": 2
}
